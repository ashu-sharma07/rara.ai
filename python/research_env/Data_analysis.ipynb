{
 "cells": [
  {
   "attachments": {},
   "cell_type": "markdown",
   "id": "186ff426",
   "metadata": {},
   "source": [
    "Importing Libraries\n",
    "\n"
   ]
  },
  {
   "cell_type": "code",
   "execution_count": 2,
   "id": "6fe06a5c",
   "metadata": {},
   "outputs": [],
   "source": [
    "import pandas as pd\n",
    "import numpy as np\n",
    "import sklearn\n",
    "import matplotlib.pyplot as plt"
   ]
  },
  {
   "cell_type": "code",
   "execution_count": 12,
   "id": "ba1e9f26",
   "metadata": {},
   "outputs": [
    {
     "data": {
      "text/html": [
       "<div>\n",
       "<style scoped>\n",
       "    .dataframe tbody tr th:only-of-type {\n",
       "        vertical-align: middle;\n",
       "    }\n",
       "\n",
       "    .dataframe tbody tr th {\n",
       "        vertical-align: top;\n",
       "    }\n",
       "\n",
       "    .dataframe thead th {\n",
       "        text-align: right;\n",
       "    }\n",
       "</style>\n",
       "<table border=\"1\" class=\"dataframe\">\n",
       "  <thead>\n",
       "    <tr style=\"text-align: right;\">\n",
       "      <th></th>\n",
       "      <th>Gender</th>\n",
       "      <th>Age</th>\n",
       "      <th>Study_year</th>\n",
       "      <th>Living</th>\n",
       "      <th>Scholarship</th>\n",
       "      <th>Part_time_job</th>\n",
       "      <th>Transporting</th>\n",
       "      <th>Smoking</th>\n",
       "      <th>Drinks</th>\n",
       "      <th>Games_&amp;_Hobbies</th>\n",
       "      <th>Cosmetics_&amp;_Self-care</th>\n",
       "      <th>Monthly_Subscription</th>\n",
       "      <th>Monthly_expenses_$</th>\n",
       "    </tr>\n",
       "  </thead>\n",
       "  <tbody>\n",
       "    <tr>\n",
       "      <th>0</th>\n",
       "      <td>Female</td>\n",
       "      <td>21</td>\n",
       "      <td>2.0</td>\n",
       "      <td>Home</td>\n",
       "      <td>No</td>\n",
       "      <td>No</td>\n",
       "      <td>No</td>\n",
       "      <td>No</td>\n",
       "      <td>No</td>\n",
       "      <td>No</td>\n",
       "      <td>Yes</td>\n",
       "      <td>No</td>\n",
       "      <td>150.0</td>\n",
       "    </tr>\n",
       "    <tr>\n",
       "      <th>1</th>\n",
       "      <td>Male</td>\n",
       "      <td>25</td>\n",
       "      <td>3.0</td>\n",
       "      <td>Hostel</td>\n",
       "      <td>No</td>\n",
       "      <td>Yes</td>\n",
       "      <td>Motorcycle</td>\n",
       "      <td>No</td>\n",
       "      <td>No</td>\n",
       "      <td>Yes</td>\n",
       "      <td>Yes</td>\n",
       "      <td>Yes</td>\n",
       "      <td>220.0</td>\n",
       "    </tr>\n",
       "    <tr>\n",
       "      <th>2</th>\n",
       "      <td>Male</td>\n",
       "      <td>23</td>\n",
       "      <td>2.0</td>\n",
       "      <td>Home</td>\n",
       "      <td>Yes</td>\n",
       "      <td>No</td>\n",
       "      <td>No</td>\n",
       "      <td>No</td>\n",
       "      <td>No</td>\n",
       "      <td>No</td>\n",
       "      <td>No</td>\n",
       "      <td>NaN</td>\n",
       "      <td>180.0</td>\n",
       "    </tr>\n",
       "    <tr>\n",
       "      <th>3</th>\n",
       "      <td>Male</td>\n",
       "      <td>19</td>\n",
       "      <td>3.0</td>\n",
       "      <td>Hostel</td>\n",
       "      <td>No</td>\n",
       "      <td>No</td>\n",
       "      <td>Motorcycle</td>\n",
       "      <td>No</td>\n",
       "      <td>No</td>\n",
       "      <td>Yes</td>\n",
       "      <td>Yes</td>\n",
       "      <td>Yes</td>\n",
       "      <td>200.0</td>\n",
       "    </tr>\n",
       "    <tr>\n",
       "      <th>4</th>\n",
       "      <td>Female</td>\n",
       "      <td>19</td>\n",
       "      <td>2.0</td>\n",
       "      <td>Home</td>\n",
       "      <td>No</td>\n",
       "      <td>No</td>\n",
       "      <td>Motorcycle</td>\n",
       "      <td>No</td>\n",
       "      <td>No</td>\n",
       "      <td>No</td>\n",
       "      <td>Yes</td>\n",
       "      <td>No</td>\n",
       "      <td>300.0</td>\n",
       "    </tr>\n",
       "    <tr>\n",
       "      <th>...</th>\n",
       "      <td>...</td>\n",
       "      <td>...</td>\n",
       "      <td>...</td>\n",
       "      <td>...</td>\n",
       "      <td>...</td>\n",
       "      <td>...</td>\n",
       "      <td>...</td>\n",
       "      <td>...</td>\n",
       "      <td>...</td>\n",
       "      <td>...</td>\n",
       "      <td>...</td>\n",
       "      <td>...</td>\n",
       "      <td>...</td>\n",
       "    </tr>\n",
       "    <tr>\n",
       "      <th>100</th>\n",
       "      <td>Male</td>\n",
       "      <td>19</td>\n",
       "      <td>3.0</td>\n",
       "      <td>Hostel</td>\n",
       "      <td>No</td>\n",
       "      <td>No</td>\n",
       "      <td>Motorcycle</td>\n",
       "      <td>No</td>\n",
       "      <td>No</td>\n",
       "      <td>Yes</td>\n",
       "      <td>Yes</td>\n",
       "      <td>Yes</td>\n",
       "      <td>200.0</td>\n",
       "    </tr>\n",
       "    <tr>\n",
       "      <th>101</th>\n",
       "      <td>Female</td>\n",
       "      <td>19</td>\n",
       "      <td>2.0</td>\n",
       "      <td>Home</td>\n",
       "      <td>No</td>\n",
       "      <td>No</td>\n",
       "      <td>Motorcycle</td>\n",
       "      <td>No</td>\n",
       "      <td>No</td>\n",
       "      <td>No</td>\n",
       "      <td>Yes</td>\n",
       "      <td>No</td>\n",
       "      <td>300.0</td>\n",
       "    </tr>\n",
       "    <tr>\n",
       "      <th>102</th>\n",
       "      <td>Male</td>\n",
       "      <td>22</td>\n",
       "      <td>3.0</td>\n",
       "      <td>Hostel</td>\n",
       "      <td>No</td>\n",
       "      <td>Yes</td>\n",
       "      <td>Car</td>\n",
       "      <td>NaN</td>\n",
       "      <td>Yes</td>\n",
       "      <td>Yes</td>\n",
       "      <td>No</td>\n",
       "      <td>No</td>\n",
       "      <td>150.0</td>\n",
       "    </tr>\n",
       "    <tr>\n",
       "      <th>103</th>\n",
       "      <td>Female</td>\n",
       "      <td>21</td>\n",
       "      <td>2.0</td>\n",
       "      <td>Home</td>\n",
       "      <td>Yes</td>\n",
       "      <td>No</td>\n",
       "      <td>No</td>\n",
       "      <td>No</td>\n",
       "      <td>No</td>\n",
       "      <td>Yes</td>\n",
       "      <td>No</td>\n",
       "      <td>Yes</td>\n",
       "      <td>200.0</td>\n",
       "    </tr>\n",
       "    <tr>\n",
       "      <th>104</th>\n",
       "      <td>Male</td>\n",
       "      <td>22</td>\n",
       "      <td>3.0</td>\n",
       "      <td>Hostel</td>\n",
       "      <td>No</td>\n",
       "      <td>Yes</td>\n",
       "      <td>Motorcycle</td>\n",
       "      <td>Yes</td>\n",
       "      <td>No</td>\n",
       "      <td>Yes</td>\n",
       "      <td>NaN</td>\n",
       "      <td>Yes</td>\n",
       "      <td>200.0</td>\n",
       "    </tr>\n",
       "  </tbody>\n",
       "</table>\n",
       "<p>105 rows × 13 columns</p>\n",
       "</div>"
      ],
      "text/plain": [
       "      Gender  Age  Study_year  Living Scholarship Part_time_job Transporting  \\\n",
       "0    Female    21         2.0    Home          No            No           No   \n",
       "1      Male    25         3.0  Hostel          No           Yes   Motorcycle   \n",
       "2      Male    23         2.0    Home         Yes            No           No   \n",
       "3      Male    19         3.0  Hostel          No            No   Motorcycle   \n",
       "4    Female    19         2.0    Home          No            No   Motorcycle   \n",
       "..       ...  ...         ...     ...         ...           ...          ...   \n",
       "100    Male    19         3.0  Hostel          No            No   Motorcycle   \n",
       "101  Female    19         2.0    Home          No            No   Motorcycle   \n",
       "102    Male    22         3.0  Hostel          No           Yes          Car   \n",
       "103  Female    21         2.0    Home         Yes            No           No   \n",
       "104    Male    22         3.0  Hostel          No           Yes   Motorcycle   \n",
       "\n",
       "    Smoking Drinks Games_&_Hobbies Cosmetics_&_Self-care Monthly_Subscription  \\\n",
       "0        No     No              No                   Yes                   No   \n",
       "1        No     No             Yes                   Yes                  Yes   \n",
       "2        No     No              No                    No                  NaN   \n",
       "3        No     No             Yes                   Yes                  Yes   \n",
       "4        No     No              No                   Yes                   No   \n",
       "..      ...    ...             ...                   ...                  ...   \n",
       "100      No     No             Yes                   Yes                  Yes   \n",
       "101      No     No              No                   Yes                   No   \n",
       "102     NaN    Yes             Yes                    No                   No   \n",
       "103      No     No             Yes                    No                  Yes   \n",
       "104     Yes     No             Yes                   NaN                  Yes   \n",
       "\n",
       "     Monthly_expenses_$  \n",
       "0                 150.0  \n",
       "1                 220.0  \n",
       "2                 180.0  \n",
       "3                 200.0  \n",
       "4                 300.0  \n",
       "..                  ...  \n",
       "100               200.0  \n",
       "101               300.0  \n",
       "102               150.0  \n",
       "103               200.0  \n",
       "104               200.0  \n",
       "\n",
       "[105 rows x 13 columns]"
      ]
     },
     "execution_count": 12,
     "metadata": {},
     "output_type": "execute_result"
    }
   ],
   "source": [
    "df = pd.read_csv(\"data.csv\")\n",
    "df"
   ]
  },
  {
   "attachments": {},
   "cell_type": "markdown",
   "id": "7acee08c",
   "metadata": {},
   "source": [
    "# Data Info"
   ]
  },
  {
   "attachments": {},
   "cell_type": "markdown",
   "id": "d3fe5b89",
   "metadata": {},
   "source": [
    "### COLUMNS"
   ]
  },
  {
   "attachments": {},
   "cell_type": "markdown",
   "id": "356da319",
   "metadata": {},
   "source": [
    "This data is from Open Source survey for study on the Monthly Expenses of University Students. We are intrigued to see the monthly expenses of on-campus students and off-campus students (study from home).\n",
    "\n",
    "### Data types of Columns\n",
    "\n",
    "Gender                    object\n",
    "Age                        int64\n",
    "Study_year               float64\n",
    "Living                    object\n",
    "Scholarship               object\n",
    "Part_time_job             object\n",
    "Transporting              object\n",
    "Smoking                   object\n",
    "Drinks                    object\n",
    "Games_&_Hobbies           object\n",
    "Cosmetics_&_Self-care     object\n",
    "Monthly_Subscription      object\n",
    "Monthly_expenses_$       float64\n",
    "\n"
   ]
  },
  {
   "cell_type": "markdown",
   "id": "afd7760b",
   "metadata": {},
   "source": []
  },
  {
   "attachments": {},
   "cell_type": "markdown",
   "id": "ef164fda",
   "metadata": {},
   "source": [
    "## Dataframe imported"
   ]
  },
  {
   "attachments": {},
   "cell_type": "markdown",
   "id": "5b5cfb57",
   "metadata": {},
   "source": [
    "## Data Types of dataframe"
   ]
  },
  {
   "cell_type": "code",
   "execution_count": 5,
   "id": "faa7766a",
   "metadata": {},
   "outputs": [
    {
     "data": {
      "text/plain": [
       "Gender                    object\n",
       "Age                        int64\n",
       "Study_year               float64\n",
       "Living                    object\n",
       "Scholarship               object\n",
       "Part_time_job             object\n",
       "Transporting              object\n",
       "Smoking                   object\n",
       "Drinks                    object\n",
       "Games_&_Hobbies           object\n",
       "Cosmetics_&_Self-care     object\n",
       "Monthly_Subscription      object\n",
       "Monthly_expenses_$       float64\n",
       "dtype: object"
      ]
     },
     "execution_count": 5,
     "metadata": {},
     "output_type": "execute_result"
    }
   ],
   "source": [
    "df.dtypes"
   ]
  },
  {
   "attachments": {},
   "cell_type": "markdown",
   "id": "d874c858",
   "metadata": {},
   "source": [
    "## Distribution of our target feature i.e. Monthly Expenses"
   ]
  },
  {
   "cell_type": "code",
   "execution_count": 6,
   "id": "f8376237",
   "metadata": {},
   "outputs": [
    {
     "data": {
      "image/png": "[encoded data removed]",
      "text/plain": [
       "<Figure size 432x288 with 1 Axes>"
      ]
     },
     "metadata": {
      "needs_background": "light"
     },
     "output_type": "display_data"
    }
   ],
   "source": [
    "# histogran to evaluate target distribution\n",
    "\n",
    "(df['Monthly_expenses_$'].hist(bins=5))\n",
    "plt.ylabel('No of Students')\n",
    "plt.xlabel('Monthly Expense')\n",
    "plt.show()"
   ]
  },
  {
   "attachments": {},
   "cell_type": "markdown",
   "id": "c3ae10e5",
   "metadata": {},
   "source": [
    "## Printing each feature's unique values and data type"
   ]
  },
  {
   "cell_type": "code",
   "execution_count": 7,
   "id": "001b577f",
   "metadata": {},
   "outputs": [
    {
     "name": "stdout",
     "output_type": "stream",
     "text": [
      "Gender =>   Unique Values:- ['Female ' 'Male ']\tDtype of Gender:- object\n",
      "Age =>   Unique Values:- [21 25 23 19 22 18 17]\tDtype of Age:- int64\n",
      "Study_year =>   Unique Values:- [ 2.  3.  1.  4. nan]\tDtype of Study_year:- float64\n",
      "Living =>   Unique Values:- ['Home' 'Hostel' nan]\tDtype of Living:- object\n",
      "Scholarship =>   Unique Values:- ['No' 'Yes']\tDtype of Scholarship:- object\n",
      "Part_time_job =>   Unique Values:- ['No' 'Yes' nan]\tDtype of Part_time_job:- object\n",
      "Transporting =>   Unique Values:- ['No' 'Motorcycle' 'Car' nan]\tDtype of Transporting:- object\n",
      "Smoking =>   Unique Values:- ['No' nan 'Yes']\tDtype of Smoking:- object\n",
      "Drinks =>   Unique Values:- ['No' 'Yes' nan]\tDtype of Drinks:- object\n",
      "Games_&_Hobbies =>   Unique Values:- ['No' 'Yes']\tDtype of Games_&_Hobbies:- object\n",
      "Cosmetics_&_Self-care =>   Unique Values:- ['Yes' 'No' nan]\tDtype of Cosmetics_&_Self-care:- object\n",
      "Monthly_Subscription =>   Unique Values:- ['No' 'Yes' nan]\tDtype of Monthly_Subscription:- object\n",
      "Monthly_expenses_$ =>   Unique Values:- [150. 220. 180. 200. 300. 160. 350. 140.  nan 250. 170. 280. 230.]\tDtype of Monthly_expenses_$:- float64\n"
     ]
    }
   ],
   "source": [
    "for i in df:\n",
    "    print(i,end=\" \")\n",
    "    print(\"=>   Unique Values:-\", end=\" \")\n",
    "    print(df[i].unique(),end=\"\\t\")\n",
    "    print(f\"Dtype of {i}:-\",end=\" \")\n",
    "    print(df[i].dtype)\n",
    "    "
   ]
  },
  {
   "attachments": {},
   "cell_type": "markdown",
   "id": "7a6454cf",
   "metadata": {},
   "source": [
    "By studying the hostogram for our dependent variable"
   ]
  },
  {
   "attachments": {},
   "cell_type": "markdown",
   "id": "5b980e4c",
   "metadata": {},
   "source": [
    "#### We observe that Study year has been assigned a float64 datatype while it should be a int value\n",
    "\n",
    "\n",
    "\n",
    " There are also many \"nan\" values present. We will have to either drop them, but seeing the size of dataset it would not be ideal, so will replace them with most frequently occuring value or the mean value, or replace them by the category \"missing\""
   ]
  },
  {
   "cell_type": "code",
   "execution_count": 8,
   "id": "098d266a",
   "metadata": {},
   "outputs": [
    {
     "data": {
      "text/plain": [
       "Transporting             0.133333\n",
       "Drinks                   0.123810\n",
       "Cosmetics_&_Self-care    0.123810\n",
       "Smoking                  0.104762\n",
       "Monthly_Subscription     0.085714\n",
       "Monthly_expenses_$       0.057143\n",
       "Part_time_job            0.047619\n",
       "Study_year               0.038095\n",
       "Living                   0.019048\n",
       "dtype: float64"
      ]
     },
     "execution_count": 8,
     "metadata": {},
     "output_type": "execute_result"
    }
   ],
   "source": [
    "# make a list of the variables that contain missing values\n",
    "vars_with_na = [var for var in df.columns if df[var].isnull().sum() > 0]\n",
    "\n",
    "# determine percentage of missing values (expressed as decimals)\n",
    "# and display the result ordered by % of missin data\n",
    "\n",
    "df[vars_with_na].isnull().mean().sort_values(ascending=False)"
   ]
  },
  {
   "attachments": {},
   "cell_type": "markdown",
   "id": "0f0e0ed1",
   "metadata": {},
   "source": [
    "Percentage of unique values in each feature"
   ]
  },
  {
   "cell_type": "code",
   "execution_count": 9,
   "id": "852b93e1",
   "metadata": {},
   "outputs": [
    {
     "name": "stdout",
     "output_type": "stream",
     "text": [
      "Female     50.47619\n",
      "Male       49.52381\n",
      "Name: Gender, dtype: float64\n",
      "19    31.428571\n",
      "22    30.476190\n",
      "18    18.095238\n",
      "21     7.619048\n",
      "23     7.619048\n",
      "17     3.809524\n",
      "25     0.952381\n",
      "Name: Age, dtype: float64\n",
      "2.0    40.594059\n",
      "4.0    27.722772\n",
      "3.0    20.792079\n",
      "1.0    10.891089\n",
      "Name: Study_year, dtype: float64\n",
      "Home      65.048544\n",
      "Hostel    34.951456\n",
      "Name: Living, dtype: float64\n",
      "No     74.285714\n",
      "Yes    25.714286\n",
      "Name: Scholarship, dtype: float64\n",
      "No     69.0\n",
      "Yes    31.0\n",
      "Name: Part_time_job, dtype: float64\n",
      "Car           38.461538\n",
      "Motorcycle    32.967033\n",
      "No            28.571429\n",
      "Name: Transporting, dtype: float64\n",
      "No     76.595745\n",
      "Yes    23.404255\n",
      "Name: Smoking, dtype: float64\n",
      "No     91.304348\n",
      "Yes     8.695652\n",
      "Name: Drinks, dtype: float64\n",
      "Yes    67.619048\n",
      "No     32.380952\n",
      "Name: Games_&_Hobbies, dtype: float64\n",
      "Yes    55.434783\n",
      "No     44.565217\n",
      "Name: Cosmetics_&_Self-care, dtype: float64\n",
      "No     52.083333\n",
      "Yes    47.916667\n",
      "Name: Monthly_Subscription, dtype: float64\n",
      "200.0    22.222222\n",
      "150.0    20.202020\n",
      "300.0    15.151515\n",
      "250.0    12.121212\n",
      "180.0    11.111111\n",
      "350.0     5.050505\n",
      "140.0     5.050505\n",
      "220.0     3.030303\n",
      "170.0     2.020202\n",
      "280.0     2.020202\n",
      "160.0     1.010101\n",
      "230.0     1.010101\n",
      "Name: Monthly_expenses_$, dtype: float64\n"
     ]
    }
   ],
   "source": [
    "for var in df:\n",
    "    print(df[var].value_counts(normalize=True)*100)"
   ]
  },
  {
   "attachments": {},
   "cell_type": "markdown",
   "id": "670cf7c7",
   "metadata": {},
   "source": [
    "We plot the bar graphs comparing the mean and the standard deviation of our target feature (monthly expense) by replacing values of nan with 1 and other values with 0"
   ]
  },
  {
   "cell_type": "code",
   "execution_count": 15,
   "id": "b895af6a",
   "metadata": {},
   "outputs": [
    {
     "data": {
      "image/png": "[encoded data removed]",
      "text/plain": [
       "<Figure size 432x288 with 1 Axes>"
      ]
     },
     "metadata": {
      "needs_background": "light"
     },
     "output_type": "display_data"
    },
    {
     "data": {
      "image/png": "[encoded data removed]",
      "text/plain": [
       "<Figure size 432x288 with 1 Axes>"
      ]
     },
     "metadata": {
      "needs_background": "light"
     },
     "output_type": "display_data"
    },
    {
     "data": {
      "image/png": "[encoded data removed]",
      "text/plain": [
       "<Figure size 432x288 with 1 Axes>"
      ]
     },
     "metadata": {
      "needs_background": "light"
     },
     "output_type": "display_data"
    },
    {
     "data": {
      "image/png": "[encoded data removed]",
      "text/plain": [
       "<Figure size 432x288 with 1 Axes>"
      ]
     },
     "metadata": {
      "needs_background": "light"
     },
     "output_type": "display_data"
    },
    {
     "data": {
      "image/png": "[encoded data removed]",
      "text/plain": [
       "<Figure size 432x288 with 1 Axes>"
      ]
     },
     "metadata": {
      "needs_background": "light"
     },
     "output_type": "display_data"
    },
    {
     "data": {
      "image/png": "[encoded data removed]",
      "text/plain": [
       "<Figure size 432x288 with 1 Axes>"
      ]
     },
     "metadata": {
      "needs_background": "light"
     },
     "output_type": "display_data"
    },
    {
     "data": {
      "image/png": "[encoded data removed]",
      "text/plain": [
       "<Figure size 432x288 with 1 Axes>"
      ]
     },
     "metadata": {
      "needs_background": "light"
     },
     "output_type": "display_data"
    },
    {
     "data": {
      "image/png": "[encoded data removed]",
      "text/plain": [
       "<Figure size 432x288 with 1 Axes>"
      ]
     },
     "metadata": {
      "needs_background": "light"
     },
     "output_type": "display_data"
    },
    {
     "data": {
      "image/png": "[encoded data removed]",
      "text/plain": [
       "<Figure size 432x288 with 1 Axes>"
      ]
     },
     "metadata": {
      "needs_background": "light"
     },
     "output_type": "display_data"
    }
   ],
   "source": [
    "for var in vars_with_na:\n",
    "    df2 = df.copy()\n",
    "    df2[var] = np.where(df2[var].isnull(), 1, 0)\n",
    "    tmp = df2.groupby(var)['Monthly_expenses_$'].agg(['mean', 'std'])\n",
    "    tmp.plot(kind=\"barh\", y=\"mean\", legend=False,xerr=\"std\", title=\"Monthly Expense\", color='green')\n",
    "    plt.show()"
   ]
  },
  {
   "attachments": {},
   "cell_type": "markdown",
   "id": "cf8706c1",
   "metadata": {},
   "source": [
    "We observe that the mean and the standard do not vary extensively so we can substitute most frequently occuring values"
   ]
  },
  {
   "attachments": {},
   "cell_type": "markdown",
   "id": "2f46ca9b",
   "metadata": {},
   "source": [
    "Gender\n",
    "Age\n",
    "Study_year               \n",
    "Living\n",
    "Scholarship\n",
    "Part_time_job\n",
    "Transporting\n",
    "Smoking\n",
    "Drinks\n",
    "Games_&_Hobbies\n",
    "Cosmetics_&_Self-care\n",
    "Monthly_Subscription"
   ]
  }
 ],
 "metadata": {
  "kernelspec": {
   "display_name": "Python 3",
   "language": "python",
   "name": "python3"
  },
  "language_info": {
   "codemirror_mode": {
    "name": "ipython",
    "version": 3
   },
   "file_extension": ".py",
   "mimetype": "text/x-python",
   "name": "python",
   "nbconvert_exporter": "python",
   "pygments_lexer": "ipython3",
   "version": "3.10.9"
  },
  "vscode": {
   "interpreter": {
    "hash": "28e88e9c77b77cd3a41c3cc12844fa426ca77faba2ea0fe191e513fe6206dcfe"
   }
  }
 },
 "nbformat": 4,
 "nbformat_minor": 5
}
